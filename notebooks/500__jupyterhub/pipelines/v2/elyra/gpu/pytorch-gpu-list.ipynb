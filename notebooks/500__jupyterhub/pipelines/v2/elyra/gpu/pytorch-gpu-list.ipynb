{
 "cells": [
  {
   "cell_type": "code",
   "execution_count": 1,
   "id": "8b99f585-503a-426b-b8c1-2a5ebdb296ed",
   "metadata": {
    "tags": []
   },
   "outputs": [
    {
     "name": "stdout",
     "output_type": "stream",
     "text": [
      "------------------------------\n",
      "GPU availability\n",
      "------------------------------\n",
      "torch.cuda.is_available():True\n",
      "torch.cuda.device_count():1\n"
     ]
    }
   ],
   "source": [
    "import torch\n",
    "\n",
    "cuda_available = torch.cuda.is_available()\n",
    "device_count = torch.cuda.device_count()\n",
    "\n",
    "print(\"------------------------------\")\n",
    "print(\"GPU availability\")\n",
    "print(\"------------------------------\")\n",
    "print(\"torch.cuda.is_available():\" + str(cuda_available))\n",
    "print(\"torch.cuda.device_count():\" + str(device_count))"
   ]
  },
  {
   "cell_type": "code",
   "execution_count": null,
   "id": "630c6c66-2ad7-473d-b935-e3e4aac9a2b8",
   "metadata": {},
   "outputs": [],
   "source": []
  }
 ],
 "metadata": {
  "kernelspec": {
   "display_name": "Python 3.9",
   "language": "python",
   "name": "python3"
  },
  "language_info": {
   "codemirror_mode": {
    "name": "ipython",
    "version": 3
   },
   "file_extension": ".py",
   "mimetype": "text/x-python",
   "name": "python",
   "nbconvert_exporter": "python",
   "pygments_lexer": "ipython3",
   "version": "3.9.18"
  }
 },
 "nbformat": 4,
 "nbformat_minor": 5
}
